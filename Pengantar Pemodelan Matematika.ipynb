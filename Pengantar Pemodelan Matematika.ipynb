{
 "cells": [
  {
   "cell_type": "markdown",
   "metadata": {},
   "source": [
    "# Pengantar Pemodelan Matematika\n",
    "\n",
    "## Matematika: Antara Teori dan Aplikasi\n",
    "\n",
    "Matematika, dari mana saya harus memulai? \n",
    "\n",
    "Banyak yang mengatakan bahwa matematika adalah ilmu abstrak, tidak memiliki penerapan di dunia nyata. Sebagian benar adanya. Sebagian dari matematika merupakan ilmu abstrak, diantaranya:\n",
    "\n",
    "- Teori Bilangan\n",
    "- Aljabar Abstrak (Teori Grup, Teori Ring, Teori Field)\n",
    "- Analisis Real\n"
   ]
  },
  {
   "cell_type": "markdown",
   "metadata": {},
   "source": [
    "## "
   ]
  }
 ],
 "metadata": {
  "kernelspec": {
   "display_name": "Python 3",
   "language": "python",
   "name": "python3"
  },
  "language_info": {
   "codemirror_mode": {
    "name": "ipython",
    "version": 3
   },
   "file_extension": ".py",
   "mimetype": "text/x-python",
   "name": "python",
   "nbconvert_exporter": "python",
   "pygments_lexer": "ipython3",
   "version": "3.7.1"
  }
 },
 "nbformat": 4,
 "nbformat_minor": 2
}
